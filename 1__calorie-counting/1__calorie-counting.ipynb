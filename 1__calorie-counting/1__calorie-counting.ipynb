{
 "cells": [
  {
   "cell_type": "markdown",
   "metadata": {},
   "source": [
    "# Day 1: Calorie Counting\n",
    "https://adventofcode.com/2022/day/1"
   ]
  },
  {
   "cell_type": "markdown",
   "metadata": {},
   "source": [
    "## Part 1"
   ]
  },
  {
   "cell_type": "markdown",
   "metadata": {},
   "source": [
    "#### 1. Read input text"
   ]
  },
  {
   "cell_type": "code",
   "execution_count": 41,
   "metadata": {},
   "outputs": [
    {
     "data": {
      "text/plain": [
       "'2159\\n2527\\n2441\\n3299\\n1672\\n3025\\n2820\\n6821\\n3201\\n1204\\n1208\\n4861\\n5621\\n\\n5580\\n18071\\n\\n8803\\n1667\\n4173\\n9404\\n97'"
      ]
     },
     "execution_count": 41,
     "metadata": {},
     "output_type": "execute_result"
    }
   ],
   "source": [
    "with open(\"input.txt\") as infile:\n",
    "    inputs = infile.read()\n",
    "    \n",
    "inputs[:100]"
   ]
  },
  {
   "cell_type": "markdown",
   "metadata": {},
   "source": [
    "#### 2. Split text into lists of items per elf"
   ]
  },
  {
   "cell_type": "code",
   "execution_count": 63,
   "metadata": {},
   "outputs": [
    {
     "data": {
      "text/plain": [
       "[<map at 0x7faca0233130>,\n",
       " <map at 0x7faca0233eb0>,\n",
       " <map at 0x7faca02339d0>,\n",
       " <map at 0x7faca02338e0>,\n",
       " <map at 0x7faca02335e0>,\n",
       " <map at 0x7faca0233910>,\n",
       " <map at 0x7faca02333a0>,\n",
       " <map at 0x7faca0233100>,\n",
       " <map at 0x7faca0233820>]"
      ]
     },
     "execution_count": 63,
     "metadata": {},
     "output_type": "execute_result"
    }
   ],
   "source": [
    "calories = [\n",
    "    map(int, elf_string.split(\"\\n\"))\n",
    "    for elf_string in inputs.split(\"\\n\\n\")\n",
    "]\n",
    "\n",
    "calories[1:10]"
   ]
  },
  {
   "cell_type": "markdown",
   "metadata": {},
   "source": [
    "#### 3. Sum calories per elf"
   ]
  },
  {
   "cell_type": "code",
   "execution_count": 64,
   "metadata": {},
   "outputs": [
    {
     "data": {
      "text/plain": [
       "[40859, 23651, 44076, 33664, 25484, 35026, 55717, 43055, 12772, 68005]"
      ]
     },
     "execution_count": 64,
     "metadata": {},
     "output_type": "execute_result"
    }
   ],
   "source": [
    "cals_per_elf = [sum(elf_cals) for elf_cals in calories]\n",
    "\n",
    "cals_per_elf[:10]"
   ]
  },
  {
   "cell_type": "markdown",
   "metadata": {},
   "source": [
    "#### 4. Find the max calories held by an elf"
   ]
  },
  {
   "cell_type": "code",
   "execution_count": 65,
   "metadata": {},
   "outputs": [
    {
     "data": {
      "text/plain": [
       "69289"
      ]
     },
     "execution_count": 65,
     "metadata": {},
     "output_type": "execute_result"
    }
   ],
   "source": [
    "max(cals_per_elf)"
   ]
  },
  {
   "cell_type": "markdown",
   "metadata": {},
   "source": [
    "## Part 2"
   ]
  },
  {
   "cell_type": "code",
   "execution_count": 76,
   "metadata": {},
   "outputs": [
    {
     "data": {
      "text/plain": [
       "205615"
      ]
     },
     "execution_count": 76,
     "metadata": {},
     "output_type": "execute_result"
    }
   ],
   "source": [
    "sum(sorted(cals_per_elf)[-3:])"
   ]
  },
  {
   "cell_type": "markdown",
   "metadata": {},
   "source": [
    "^ Gets the solution, but below is slightly more efficient due to avoiding the full list sort:"
   ]
  },
  {
   "cell_type": "code",
   "execution_count": 82,
   "metadata": {},
   "outputs": [
    {
     "data": {
      "text/plain": [
       "205615"
      ]
     },
     "execution_count": 82,
     "metadata": {},
     "output_type": "execute_result"
    }
   ],
   "source": [
    "top_3 = cals_per_elf[:3]\n",
    "cur_min = min(top_3)\n",
    "imin = top_3.index(cur_min)\n",
    "\n",
    "for c in cals_per_elf:\n",
    "    if c > cur_min:\n",
    "        top_3[imin] = c\n",
    "        cur_min = min(top_3)\n",
    "        imin = top_3.index(cur_min)\n",
    "        \n",
    "sum(top_3)"
   ]
  },
  {
   "cell_type": "markdown",
   "metadata": {},
   "source": [
    "Reflection: it's crazy how much it took to work out an implementation faster than the naive 1st approach, even though the latter is clearly a better algorithm.\n",
    "\n",
    "Lesson: The built-in iterable functions are optimized to hell - be very confident before straying from just using them."
   ]
  }
 ],
 "metadata": {
  "kernelspec": {
   "display_name": "Python 3.9.15 ('aoc')",
   "language": "python",
   "name": "python3"
  },
  "language_info": {
   "codemirror_mode": {
    "name": "ipython",
    "version": 3
   },
   "file_extension": ".py",
   "mimetype": "text/x-python",
   "name": "python",
   "nbconvert_exporter": "python",
   "pygments_lexer": "ipython3",
   "version": "3.9.15"
  },
  "orig_nbformat": 4,
  "vscode": {
   "interpreter": {
    "hash": "a2980fd4ff48bc09093efb333ccd8dff2cb9c7cfb30d3916dc11a05336e2da9f"
   }
  }
 },
 "nbformat": 4,
 "nbformat_minor": 2
}
